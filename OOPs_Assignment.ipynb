{
  "nbformat": 4,
  "nbformat_minor": 0,
  "metadata": {
    "colab": {
      "provenance": []
    },
    "kernelspec": {
      "name": "python3",
      "display_name": "Python 3"
    },
    "language_info": {
      "name": "python"
    }
  },
  "cells": [
    {
      "cell_type": "markdown",
      "source": [
        "**OOPs Assignment**"
      ],
      "metadata": {
        "id": "v0fmRLa6EWNm"
      }
    },
    {
      "cell_type": "markdown",
      "source": [
        "1. What is Object-Oriented Programming (OOP)?\n",
        "\n",
        "- Object-Oriented Programming (OOP) is a programming paradigm that organizes software design around objects rather than functions and logic. Objects are instances of classes, which can hold data in the form of attributes and code in the form of methods. OOP principles include encapsulation, inheritance, polymorphism, and abstraction."
      ],
      "metadata": {
        "id": "MS8pIEHwEqK3"
      }
    },
    {
      "cell_type": "markdown",
      "source": [
        "2. What is a class in OOP?\n",
        "\n",
        "- A class in OOP is a blueprint or template for creating objects. It defines a set of attributes (data) and methods (functions) that the objects created from the class can have. For example, a Car class may have attributes like color and model and methods like start() and stop()."
      ],
      "metadata": {
        "id": "2-jwwPavE0_i"
      }
    },
    {
      "cell_type": "markdown",
      "source": [
        "3. What is an object in OOP?\n",
        "\n",
        "- An object is an instance of a class. It represents a real-world entity with specific attributes and behaviors defined by the class. For instance, a car created from the Car class can be an object with a specific color and model."
      ],
      "metadata": {
        "id": "Tvn2Bh65E8cy"
      }
    },
    {
      "cell_type": "markdown",
      "source": [
        "4. What is the difference between abstraction and encapsulation?\n",
        "\n",
        "- Abstraction focuses on hiding implementation details and showing only the essential features of an object. For example, a car’s driver does not need to know how the engine works to drive it.\n",
        "\n",
        "- Encapsulation is the process of wrapping data (attributes) and methods into a single unit (class) and restricting direct access to them to ensure data security."
      ],
      "metadata": {
        "id": "a3ws83hbFEmp"
      }
    },
    {
      "cell_type": "markdown",
      "source": [
        "5. What are dunder methods in Python?\n",
        "\n",
        "- Dunder (double underscore) methods in Python, also known as magic methods, are special methods with names surrounded by double underscores (e.g., __init__, __str__). They enable customization of object behavior, like initialization (__init__) or representation (__str__).\n",
        "\n"
      ],
      "metadata": {
        "id": "DAN0XkLGFSsb"
      }
    },
    {
      "cell_type": "markdown",
      "source": [
        "6. Explain the concept of inheritance in OOP.\n",
        "\n",
        "- Inheritance in OOP is a mechanism where one class (child or derived) inherits the attributes and methods of another class (parent or base). It allows code reusability and establishes a hierarchical relationship between classes. For example:"
      ],
      "metadata": {
        "id": "bA9p_qkkFepz"
      }
    },
    {
      "cell_type": "code",
      "source": [
        "class Animal:\n",
        "    def speak(self):\n",
        "        print(\"This is a generic animal sound.\")\n",
        "\n",
        "class Dog(Animal):\n",
        "    def speak(self):\n",
        "        print(\"Bark!\")\n"
      ],
      "metadata": {
        "id": "jK8Voe66FiSt"
      },
      "execution_count": null,
      "outputs": []
    },
    {
      "cell_type": "markdown",
      "source": [
        "7. What is polymorphism in OOP?\n",
        "\n",
        "- Polymorphism in OOP refers to the ability of different classes to be treated as instances of the same class through a shared interface. It allows methods in different classes to have the same name but behave differently. For example:"
      ],
      "metadata": {
        "id": "67dV0ImbFooM"
      }
    },
    {
      "cell_type": "code",
      "source": [
        "class Dog:\n",
        "    def speak(self):\n",
        "        print(\"Bark!\")\n",
        "\n",
        "class Cat:\n",
        "    def speak(self):\n",
        "        print(\"Meow!\")\n",
        "\n",
        "def animal_sound(animal):\n",
        "    animal.speak()\n"
      ],
      "metadata": {
        "id": "fQOYHZ_oFvs_"
      },
      "execution_count": null,
      "outputs": []
    },
    {
      "cell_type": "markdown",
      "source": [
        "8. How is encapsulation achieved in Python?\n",
        "\n",
        "- Encapsulation is achieved in Python by using private attributes and methods, which can be accessed only through public methods. Prefixing an attribute or method with a single underscore _ or double underscores __ makes it private or protected. For example:"
      ],
      "metadata": {
        "id": "A25MSpiRF3Cd"
      }
    },
    {
      "cell_type": "code",
      "source": [
        "class BankAccount:\n",
        "    def __init__(self, balance):\n",
        "        self.__balance = balance  # private attribute\n",
        "\n",
        "    def deposit(self, amount):\n",
        "        self.__balance += amount\n",
        "\n",
        "    def get_balance(self):\n",
        "        return self.__balance\n"
      ],
      "metadata": {
        "id": "Ew7Qr7FWF_Bb"
      },
      "execution_count": null,
      "outputs": []
    },
    {
      "cell_type": "markdown",
      "source": [
        "9. What is a constructor in Python?\n",
        "\n",
        "- A constructor in Python is a special method used to initialize an object's attributes when the object is created. It is defined by the __init__ method. For example:\n"
      ],
      "metadata": {
        "id": "4ef1Z5-aGDGa"
      }
    },
    {
      "cell_type": "code",
      "source": [
        "class Person:\n",
        "    def __init__(self, name, age):\n",
        "        self.name = name\n",
        "        self.age = age\n"
      ],
      "metadata": {
        "id": "c9vZFhN5GL5y"
      },
      "execution_count": null,
      "outputs": []
    },
    {
      "cell_type": "markdown",
      "source": [
        "10. What are class and static methods in Python?\n",
        "\n",
        "- Class Methods: Methods that take cls as their first argument and can modify the class state. They are defined using the @classmethod decorator.\n",
        "- Static Methods: Methods that don’t take self or cls as their first argument and don’t modify object or class state. They are defined using the @staticmethod decorator.\n",
        "\n",
        "Example:"
      ],
      "metadata": {
        "id": "Beq7JqSAGPvy"
      }
    },
    {
      "cell_type": "code",
      "source": [
        "class Math:\n",
        "    @classmethod\n",
        "    def class_method(cls):\n",
        "        print(\"This is a class method.\")\n",
        "\n",
        "    @staticmethod\n",
        "    def static_method():\n",
        "        print(\"This is a static method.\")\n"
      ],
      "metadata": {
        "id": "0lLjFe6WGbYV"
      },
      "execution_count": null,
      "outputs": []
    },
    {
      "cell_type": "markdown",
      "source": [
        "11. What is method overloading in Python?\n",
        "\n",
        "- Python does not support traditional method overloading but allows default arguments to mimic it. A single method can perform different tasks based on the number or type of arguments. Example:"
      ],
      "metadata": {
        "id": "70F5doQOGjfP"
      }
    },
    {
      "cell_type": "code",
      "source": [
        "class Calculator:\n",
        "    def add(self, a, b=0):\n",
        "        return a + b\n"
      ],
      "metadata": {
        "id": "AgZZSNQKGo1u"
      },
      "execution_count": null,
      "outputs": []
    },
    {
      "cell_type": "markdown",
      "source": [
        "12. What is method overriding in OOP?\n",
        "\n",
        "- Method overriding in OOP occurs when a subclass provides a specific implementation of a method already defined in its parent class. The overriding method in the subclass must have the same name as in the parent class. Example:"
      ],
      "metadata": {
        "id": "0ovROyT-Gu54"
      }
    },
    {
      "cell_type": "code",
      "source": [
        "class Parent:\n",
        "    def greet(self):\n",
        "        print(\"Hello from Parent.\")\n",
        "\n",
        "class Child(Parent):\n",
        "    def greet(self):\n",
        "        print(\"Hello from Child.\")\n"
      ],
      "metadata": {
        "id": "arE4vQoYGyo-"
      },
      "execution_count": null,
      "outputs": []
    },
    {
      "cell_type": "markdown",
      "source": [
        "13. What is a property decorator in Python?\n",
        "\n",
        "- The @property decorator in Python is used to define a method as a property, enabling it to be accessed like an attribute. It is useful for encapsulating and controlling access to instance variables. Example:"
      ],
      "metadata": {
        "id": "75P05KZWG50e"
      }
    },
    {
      "cell_type": "code",
      "source": [
        "class Circle:\n",
        "    def __init__(self, radius):\n",
        "        self.__radius = radius\n",
        "\n",
        "    @property\n",
        "    def radius(self):\n",
        "        return self.__radius\n"
      ],
      "metadata": {
        "id": "B7x-xLyyG8sj"
      },
      "execution_count": null,
      "outputs": []
    },
    {
      "cell_type": "markdown",
      "source": [
        "14. Why is polymorphism important in OOP?\n",
        "\n",
        "- Polymorphism increases flexibility and maintainability by allowing the same interface to be used for different underlying data types. It simplifies code by enabling the same operation to behave differently on different classes."
      ],
      "metadata": {
        "id": "aebFCE7XHAPe"
      }
    },
    {
      "cell_type": "markdown",
      "source": [
        "15. What is an abstract class in Python?\n",
        "\n",
        "- An abstract class in Python is a class that cannot be instantiated and typically includes one or more abstract methods. Abstract methods are defined but not implemented in the abstract class. The abc module is used to create abstract classes. Example:"
      ],
      "metadata": {
        "id": "mVHJciTyHOmR"
      }
    },
    {
      "cell_type": "code",
      "source": [
        "from abc import ABC, abstractmethod\n",
        "\n",
        "class Shape(ABC):\n",
        "    @abstractmethod\n",
        "    def area(self):\n",
        "        pass\n"
      ],
      "metadata": {
        "id": "DB_L4aatHUtS"
      },
      "execution_count": null,
      "outputs": []
    },
    {
      "cell_type": "markdown",
      "source": [
        "16. What are the advantages of OOP?\n",
        "\n",
        "- Reusability: Code can be reused through inheritance.\n",
        "- Scalability: Classes and objects make it easier to scale complex systems.\n",
        "- Maintainability: Encapsulation ensures that internal implementation details are hidden.\n",
        "- Polymorphism: Promotes flexibility and reduces coupling."
      ],
      "metadata": {
        "id": "ik-LlOazHWX9"
      }
    },
    {
      "cell_type": "markdown",
      "source": [
        "17. What is the difference between a class variable and an instance variable?\n",
        "\n",
        "- Class Variable: Shared among all instances of a class and defined outside any method.\n",
        "\n",
        "- Instance Variable: Unique to each instance and defined within methods, usually __init__.\n",
        "\n",
        "example"
      ],
      "metadata": {
        "id": "m9JRXTlIHjqb"
      }
    },
    {
      "cell_type": "code",
      "source": [
        "class Example:\n",
        "    class_var = \"shared\"\n",
        "    def __init__(self, instance_var):\n",
        "        self.instance_var = instance_var\n"
      ],
      "metadata": {
        "id": "F8MoX2V-H2NI"
      },
      "execution_count": null,
      "outputs": []
    },
    {
      "cell_type": "markdown",
      "source": [
        "18. What is multiple inheritance in Python?\n",
        "\n",
        "- Multiple inheritance is when a class inherits from more than one parent class. Example:"
      ],
      "metadata": {
        "id": "SFCz7WNwH88A"
      }
    },
    {
      "cell_type": "code",
      "source": [
        "class Parent1:\n",
        "    pass\n",
        "\n",
        "class Parent2:\n",
        "    pass\n",
        "\n",
        "class Child(Parent1, Parent2):\n",
        "    pass\n"
      ],
      "metadata": {
        "id": "sDXVCkEDIC4r"
      },
      "execution_count": null,
      "outputs": []
    },
    {
      "cell_type": "markdown",
      "source": [
        "19. Explain the purpose of __str__  and __repr__ methods in Python.\n",
        "\n",
        "- __str__: Defines a readable and user-friendly string representation of an object.\n",
        "- __repr__: Returns an unambiguous representation, useful for debugging."
      ],
      "metadata": {
        "id": "Q0jN2hsPIK7b"
      }
    },
    {
      "cell_type": "code",
      "source": [
        "#19. Explain the purpose of __str__ and __repr__ methods in Python.\n",
        "\n",
        "     #__str__: Defines a readable and user-friendly string representation of an object.\n",
        "     #__repr__: Returns an unambiguous representation, useful for debugging.\n",
        "\n",
        "Example\n",
        "\n",
        "class Person:\n",
        "    def __repr__(self):\n",
        "        return \"Person(name, age)\"\n",
        "    def __str__(self):\n",
        "        return \"Person object\"\n"
      ],
      "metadata": {
        "id": "aXdsrBCUInAo"
      },
      "execution_count": null,
      "outputs": []
    },
    {
      "cell_type": "markdown",
      "source": [
        "20. What is the significance of the super() function in Python?\n",
        "\n",
        "- The super() function in Python is used to call a method from a parent class. It is commonly used in the constructor of a subclass to initialize the parent class’s attributes or methods. Example:"
      ],
      "metadata": {
        "id": "LcYTRn5wJAZh"
      }
    },
    {
      "cell_type": "code",
      "source": [
        "class Parent:\n",
        "    def __init__(self, name):\n",
        "        self.name = name\n",
        "\n",
        "class Child(Parent):\n",
        "    def __init__(self, name, age):\n",
        "        super().__init__(name)\n",
        "        self.age = age\n"
      ],
      "metadata": {
        "id": "aQ49Xm0BJG39"
      },
      "execution_count": null,
      "outputs": []
    },
    {
      "cell_type": "markdown",
      "source": [
        "21. What is the significance of the __del__ method in Python?\n",
        "\n",
        "- The __del__ method in Python is a destructor method called when an object is about to be destroyed. It is useful for releasing resources such as closing files or database connections.\n",
        "\n",
        " Example:"
      ],
      "metadata": {
        "id": "yK0fjsFGJLsB"
      }
    },
    {
      "cell_type": "code",
      "source": [
        "class Example:\n",
        "    def __del__(self):\n",
        "        print(\"Object destroyed\")\n"
      ],
      "metadata": {
        "id": "XhvZuo68J-_C"
      },
      "execution_count": null,
      "outputs": []
    },
    {
      "cell_type": "markdown",
      "source": [
        "22. What is the difference between @staticmethod and @classmethod in Python?\n",
        "\n",
        "- @staticmethod: Does not take self or cls as its first argument and works without class or instance context.\n",
        "- @classmethod: Takes cls as its first argument and can modify class state.\n",
        "\n",
        "Example:"
      ],
      "metadata": {
        "id": "6IN2Xxt0KIoD"
      }
    },
    {
      "cell_type": "code",
      "source": [
        "class Example:\n",
        "    @staticmethod\n",
        "    def static_method():\n",
        "        return \"Static method\"\n",
        "\n",
        "    @classmethod\n",
        "    def class_method(cls):\n",
        "        return \"Class method\"\n"
      ],
      "metadata": {
        "id": "ABxNpc2eKSvW"
      },
      "execution_count": null,
      "outputs": []
    },
    {
      "cell_type": "markdown",
      "source": [
        "23. How does polymorphism work in Python with inheritance?\n",
        "\n",
        "- Polymorphism in Python allows methods in a parent class to be overridden in child classes, enabling a single interface to handle different types of objects.\n",
        "\n",
        "Example:"
      ],
      "metadata": {
        "id": "iQD1F92LKd2s"
      }
    },
    {
      "cell_type": "code",
      "source": [
        "class Shape:\n",
        "    def draw(self):\n",
        "        print(\"Drawing a shape\")\n",
        "\n",
        "class Circle(Shape):\n",
        "    def draw(self):\n",
        "        print(\"Drawing a circle\")\n",
        "\n",
        "def draw_shape(shape):\n",
        "    shape.draw()\n"
      ],
      "metadata": {
        "id": "5UjxaDy6KpsE"
      },
      "execution_count": null,
      "outputs": []
    },
    {
      "cell_type": "markdown",
      "source": [
        "24. What is method chaining in Python OOP?\n",
        "\n",
        "- Method chaining is a technique in OOP where multiple methods are called on the same object in a single statement. Each method returns the object itself, allowing the calls to be chained.\n",
        "\n",
        "Example:"
      ],
      "metadata": {
        "id": "5fg9CZZKKrKg"
      }
    },
    {
      "cell_type": "code",
      "source": [
        "class Example:\n",
        "    def method1(self):\n",
        "        print(\"Method 1\")\n",
        "        return self\n",
        "\n",
        "    def method2(self):\n",
        "        print(\"Method 2\")\n",
        "        return self\n",
        "\n",
        "obj = Example()\n",
        "obj.method1().method2()\n"
      ],
      "metadata": {
        "id": "FRDh98YPK3J0"
      },
      "execution_count": null,
      "outputs": []
    },
    {
      "cell_type": "markdown",
      "source": [
        "25. What is the purpose of the __call__ method in Python?\n",
        "\n",
        "- The __call__ method in Python allows an object to be called as if it were a function. It is useful for creating callable objects. Example:"
      ],
      "metadata": {
        "id": "_FuILU6dK89z"
      }
    },
    {
      "cell_type": "code",
      "source": [
        "class Example:\n",
        "    def __call__(self, x):\n",
        "        return x ** 2\n",
        "\n",
        "obj = Example()\n",
        "print(obj(5))  # Outputs 25\n"
      ],
      "metadata": {
        "id": "Km9BA1pwLCy1"
      },
      "execution_count": null,
      "outputs": []
    },
    {
      "cell_type": "markdown",
      "source": [
        "**Practical Questions**"
      ],
      "metadata": {
        "id": "Gj9euUpFLJTt"
      }
    },
    {
      "cell_type": "markdown",
      "source": [
        "1. Create a parent class Animal with a method speak() that prints a generic message. Create a child class Dog that overrides the speak() method to print \"Bark!\"\n"
      ],
      "metadata": {
        "id": "LOWOA2BMLL6_"
      }
    },
    {
      "cell_type": "code",
      "source": [
        "class Animal:\n",
        "    def speak(self):\n",
        "        print(\"This is a generic animal sound.\")\n",
        "\n",
        "class Dog(Animal):\n",
        "    def speak(self):\n",
        "        print(\"Bark!\")\n"
      ],
      "metadata": {
        "id": "YDkeMh0zLUWk"
      },
      "execution_count": null,
      "outputs": []
    },
    {
      "cell_type": "markdown",
      "source": [
        "2. Write a program to create an abstract class Shape with a method area(). Derive classes Circle and Rectangle from it and implement the area() method in both."
      ],
      "metadata": {
        "id": "TcpOdcg5LVZM"
      }
    },
    {
      "cell_type": "code",
      "source": [
        "from abc import ABC, abstractmethod\n",
        "\n",
        "class Shape(ABC):\n",
        "    @abstractmethod\n",
        "    def area(self):\n",
        "        pass\n",
        "\n",
        "class Circle(Shape):\n",
        "    def __init__(self, radius):\n",
        "        self.radius = radius\n",
        "\n",
        "    def area(self):\n",
        "        return 3.14 * self.radius * self.radius\n",
        "\n",
        "class Rectangle(Shape):\n",
        "    def __init__(self, length, width):\n",
        "        self.length = length\n",
        "        self.width = width\n",
        "\n",
        "    def area(self):\n",
        "        return self.length * self.width\n"
      ],
      "metadata": {
        "id": "QBzALaNPLZpa"
      },
      "execution_count": null,
      "outputs": []
    },
    {
      "cell_type": "markdown",
      "source": [
        "3. Implement a multi-level inheritance scenario where a class Vehicle has an attribute type. Derive a class Car and further derive a class ElectricCar that adds a battery attribute."
      ],
      "metadata": {
        "id": "0E-K9jirLdx-"
      }
    },
    {
      "cell_type": "code",
      "source": [
        "class Vehicle:\n",
        "    def __init__(self, vehicle_type):\n",
        "        self.type = vehicle_type\n",
        "\n",
        "class Car(Vehicle):\n",
        "    def __init__(self, vehicle_type, model):\n",
        "        super().__init__(vehicle_type)\n",
        "        self.model = model\n",
        "\n",
        "class ElectricCar(Car):\n",
        "    def __init__(self, vehicle_type, model, battery):\n",
        "        super().__init__(vehicle_type, model)\n",
        "        self.battery = battery\n"
      ],
      "metadata": {
        "id": "X6rktoRVLjZN"
      },
      "execution_count": null,
      "outputs": []
    },
    {
      "cell_type": "markdown",
      "source": [
        "4. Write a program to demonstrate encapsulation by creating a class BankAccount with private attributes balance and methods to deposit, withdraw, and check balance."
      ],
      "metadata": {
        "id": "6I8h0oL7LnHS"
      }
    },
    {
      "cell_type": "code",
      "source": [
        "class BankAccount:\n",
        "    def __init__(self, balance=0):\n",
        "        self.__balance = balance\n",
        "\n",
        "    def deposit(self, amount):\n",
        "        self.__balance += amount\n",
        "\n",
        "    def withdraw(self, amount):\n",
        "        if amount <= self.__balance:\n",
        "            self.__balance -= amount\n",
        "        else:\n",
        "            print(\"Insufficient balance\")\n",
        "\n",
        "    def get_balance(self):\n",
        "        return self.__balance\n"
      ],
      "metadata": {
        "id": "x2NN6Z2MLwfI"
      },
      "execution_count": null,
      "outputs": []
    },
    {
      "cell_type": "markdown",
      "source": [
        "5. Demonstrate runtime polymorphism using a method play() in a base class Instrument. Derive classes Guitar and Piano that implement their own version of play()."
      ],
      "metadata": {
        "id": "wpwf0v64L3iC"
      }
    },
    {
      "cell_type": "code",
      "source": [
        "class Instrument:\n",
        "    def play(self):\n",
        "        print(\"Playing an instrument\")\n",
        "\n",
        "class Guitar(Instrument):\n",
        "    def play(self):\n",
        "        print(\"Strumming the guitar\")\n",
        "\n",
        "class Piano(Instrument):\n",
        "    def play(self):\n",
        "        print(\"Playing the piano\")\n"
      ],
      "metadata": {
        "id": "SUeoJZIhL46s"
      },
      "execution_count": null,
      "outputs": []
    },
    {
      "cell_type": "markdown",
      "source": [
        "6. Create a class MathOperations with a class method add_numbers() to add two numbers and a static method subtract_numbers() to subtract two numbers."
      ],
      "metadata": {
        "id": "ehoIYo-GMAJ1"
      }
    },
    {
      "cell_type": "code",
      "source": [
        "class MathOperations:\n",
        "    @classmethod\n",
        "    def add_numbers(cls, a, b):\n",
        "        return a + b\n",
        "\n",
        "    @staticmethod\n",
        "    def subtract_numbers(a, b):\n",
        "        return a - b\n"
      ],
      "metadata": {
        "id": "NmmhUB-zMBWs"
      },
      "execution_count": null,
      "outputs": []
    },
    {
      "cell_type": "markdown",
      "source": [
        "7. Implement a class Person with a class method to count the total number of persons created."
      ],
      "metadata": {
        "id": "gZC82IqTMIAT"
      }
    },
    {
      "cell_type": "code",
      "source": [
        "class Person:\n",
        "    count = 0\n",
        "\n",
        "    def __init__(self, name):\n",
        "        self.name = name\n",
        "        Person.count += 1\n",
        "\n",
        "    @classmethod\n",
        "    def total_persons(cls):\n",
        "        return cls.count\n"
      ],
      "metadata": {
        "id": "d-bAltJ7MJLJ"
      },
      "execution_count": null,
      "outputs": []
    },
    {
      "cell_type": "markdown",
      "source": [
        "8. Write a class Fraction with attributes numerator and denominator. Override the __str__ method to display the fraction as \"numerator/denominator\"."
      ],
      "metadata": {
        "id": "AXy_0qdlMQnT"
      }
    },
    {
      "cell_type": "code",
      "source": [
        "class Fraction:\n",
        "    def __init__(self, numerator, denominator):\n",
        "        self.numerator = numerator\n",
        "        self.denominator = denominator\n",
        "\n",
        "    def __str__(self):\n",
        "        return f\"{self.numerator}/{self.denominator}\"\n"
      ],
      "metadata": {
        "id": "n07Dtg5LMSIN"
      },
      "execution_count": null,
      "outputs": []
    },
    {
      "cell_type": "markdown",
      "source": [
        "9. Demonstrate operator overloading by creating a class Vector and overriding the + operator to add two vectors."
      ],
      "metadata": {
        "id": "5ef3vpZhMYrC"
      }
    },
    {
      "cell_type": "code",
      "source": [
        "class Vector:\n",
        "    def __init__(self, x, y):\n",
        "        self.x = x\n",
        "        self.y = y\n",
        "\n",
        "    def __add__(self, other):\n",
        "        return Vector(self.x + other.x, self.y + other.y)\n",
        "\n",
        "    def __str__(self):\n",
        "        return f\"({self.x}, {self.y})\"\n"
      ],
      "metadata": {
        "id": "TihlVPg7Mabo"
      },
      "execution_count": null,
      "outputs": []
    },
    {
      "cell_type": "markdown",
      "source": [
        "10. Create a class Person with attributes name and age. Add a method greet() that prints \"Hello, my name is {name} and I am {age} years old.\""
      ],
      "metadata": {
        "id": "NRvRIqWoMrJA"
      }
    },
    {
      "cell_type": "code",
      "source": [
        "class Person:\n",
        "    def __init__(self, name, age):\n",
        "        self.name = name\n",
        "        self.age = age\n",
        "\n",
        "    def greet(self):\n",
        "        print(f\"Hello, my name is {self.name} and I am {self.age} years old.\")\n"
      ],
      "metadata": {
        "id": "TuwBl-FaMsxJ"
      },
      "execution_count": null,
      "outputs": []
    },
    {
      "cell_type": "markdown",
      "source": [
        "11. Implement a class Student with attributes name and grades. Create a method average_grade() to compute the average of the grades."
      ],
      "metadata": {
        "id": "FxifTuGDMv4n"
      }
    },
    {
      "cell_type": "code",
      "source": [
        "class Student:\n",
        "    def __init__(self, name, grades):\n",
        "        self.name = name\n",
        "        self.grades = grades\n",
        "\n",
        "    def average_grade(self):\n",
        "        return sum(self.grades) / len(self.grades)\n"
      ],
      "metadata": {
        "id": "E2AXCMmlM0eh"
      },
      "execution_count": null,
      "outputs": []
    },
    {
      "cell_type": "markdown",
      "source": [
        "12. Create a class Rectangle with methods set_dimensions() to set the dimensions and area() to calculate the area."
      ],
      "metadata": {
        "id": "aG26e8l7M8l9"
      }
    },
    {
      "cell_type": "code",
      "source": [
        "class Rectangle:\n",
        "    def set_dimensions(self, length, width):\n",
        "        self.length = length\n",
        "        self.width = width\n",
        "\n",
        "    def area(self):\n",
        "        return self.length * self.width\n"
      ],
      "metadata": {
        "id": "ZPvabCFoM-Ab"
      },
      "execution_count": null,
      "outputs": []
    },
    {
      "cell_type": "markdown",
      "source": [
        "13. Create a class Employee with a method calculate_salary() that computes the salary based on hours worked and hourly rate. Create a derived class Manager that adds a bonus to the salary."
      ],
      "metadata": {
        "id": "2-6KKEtgNE1Z"
      }
    },
    {
      "cell_type": "code",
      "source": [
        "class Employee:\n",
        "    def calculate_salary(self, hours_worked, hourly_rate):\n",
        "        return hours_worked * hourly_rate\n",
        "\n",
        "class Manager(Employee):\n",
        "    def calculate_salary(self, hours_worked, hourly_rate, bonus):\n",
        "        base_salary = super().calculate_salary(hours_worked, hourly_rate)\n",
        "        return base_salary + bonus\n"
      ],
      "metadata": {
        "id": "vD6va1FXNGFx"
      },
      "execution_count": null,
      "outputs": []
    },
    {
      "cell_type": "markdown",
      "source": [
        "14. Create a class Product with attributes name, price, and quantity. Implement a method total_price() that calculates the total price of the product."
      ],
      "metadata": {
        "id": "effSaWHHNVJ2"
      }
    },
    {
      "cell_type": "code",
      "source": [
        "class Product:\n",
        "    def __init__(self, name, price, quantity):\n",
        "        self.name = name\n",
        "        self.price = price\n",
        "        self.quantity = quantity\n",
        "\n",
        "    def total_price(self):\n",
        "        return self.price * self.quantity\n"
      ],
      "metadata": {
        "id": "tmTcWwNNNWr7"
      },
      "execution_count": null,
      "outputs": []
    },
    {
      "cell_type": "markdown",
      "source": [
        "15. Create a class Animal with an abstract method sound(). Create two derived classes Cow and Sheep that implement the sound() method."
      ],
      "metadata": {
        "id": "gwLSGyvBNdvI"
      }
    },
    {
      "cell_type": "code",
      "source": [
        "from abc import ABC, abstractmethod\n",
        "\n",
        "class Animal(ABC):\n",
        "    @abstractmethod\n",
        "    def sound(self):\n",
        "        pass\n",
        "\n",
        "class Cow(Animal):\n",
        "    def sound(self):\n",
        "        return \"Moo\"\n",
        "\n",
        "class Sheep(Animal):\n",
        "    def sound(self):\n",
        "        return \"Baa\"\n"
      ],
      "metadata": {
        "id": "OZB60Dz8NfoJ"
      },
      "execution_count": null,
      "outputs": []
    },
    {
      "cell_type": "markdown",
      "source": [
        "16. Create a class Book with attributes title, author, and year_published. Add a method get_book_info() that returns a formatted string with the book's details."
      ],
      "metadata": {
        "id": "i4SRpgC_Nmdg"
      }
    },
    {
      "cell_type": "code",
      "source": [
        "class Book:\n",
        "    def __init__(self, title, author, year_published):\n",
        "        self.title = title\n",
        "        self.author = author\n",
        "        self.year_published = year_published\n",
        "\n",
        "    def get_book_info(self):\n",
        "        return f\"'{self.title}' by {self.author}, published in {self.year_published}.\"\n"
      ],
      "metadata": {
        "id": "mvVjYsRONn8R"
      },
      "execution_count": null,
      "outputs": []
    },
    {
      "cell_type": "markdown",
      "source": [
        "17. Create a class House with attributes address and price. Create a derived class Mansion that adds an attribute number_of_rooms."
      ],
      "metadata": {
        "id": "Yl4AbRPINu5L"
      }
    },
    {
      "cell_type": "code",
      "source": [
        "class House:\n",
        "    def __init__(self, address, price):\n",
        "        self.address = address\n",
        "        self.price = price\n",
        "\n",
        "class Mansion(House):\n",
        "    def __init__(self, address, price, number_of_rooms):\n",
        "        super().__init__(address, price)\n",
        "        self.number_of_rooms = number_of_rooms\n"
      ],
      "metadata": {
        "id": "C0-J3t56NwjM"
      },
      "execution_count": null,
      "outputs": []
    },
    {
      "cell_type": "markdown",
      "source": [
        "in practical questionslist question no 3 and 4 are same so the total number of answer decreased by one thank you"
      ],
      "metadata": {
        "id": "5ldhEq8ZP2tz"
      }
    }
  ]
}